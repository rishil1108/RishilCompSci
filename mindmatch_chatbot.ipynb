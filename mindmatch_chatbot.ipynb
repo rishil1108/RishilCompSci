{
  "cells": [
    {
      "cell_type": "markdown",
      "metadata": {
        "id": "view-in-github",
        "colab_type": "text"
      },
      "source": [
        "<a href=\"https://colab.research.google.com/github/rishil1108/RishilCompSci/blob/main/mindmatch_chatbot.ipynb\" target=\"_parent\"><img src=\"https://colab.research.google.com/assets/colab-badge.svg\" alt=\"Open In Colab\"/></a>"
      ]
    },
    {
      "cell_type": "code",
      "execution_count": null,
      "metadata": {
        "collapsed": true,
        "id": "xofu4ZXxRwG0",
        "colab": {
          "base_uri": "https://localhost:8080/"
        },
        "outputId": "d9bacbd4-cbe6-4729-ae7f-763e8f89c5a0"
      },
      "outputs": [
        {
          "output_type": "stream",
          "name": "stdout",
          "text": [
            "Requirement already satisfied: openai in /usr/local/lib/python3.11/dist-packages (1.77.0)\n",
            "Requirement already satisfied: textblob in /usr/local/lib/python3.11/dist-packages (0.19.0)\n",
            "Requirement already satisfied: pandas in /usr/local/lib/python3.11/dist-packages (2.2.3)\n",
            "Requirement already satisfied: matplotlib in /usr/local/lib/python3.11/dist-packages (3.10.1)\n",
            "Requirement already satisfied: fpdf in /usr/local/lib/python3.11/dist-packages (1.7.2)\n",
            "Requirement already satisfied: gradio in /usr/local/lib/python3.11/dist-packages (5.29.0)\n",
            "Requirement already satisfied: anyio<5,>=3.5.0 in /usr/local/lib/python3.11/dist-packages (from openai) (4.9.0)\n",
            "Requirement already satisfied: distro<2,>=1.7.0 in /usr/local/lib/python3.11/dist-packages (from openai) (1.9.0)\n",
            "Requirement already satisfied: httpx<1,>=0.23.0 in /usr/local/lib/python3.11/dist-packages (from openai) (0.28.1)\n",
            "Requirement already satisfied: jiter<1,>=0.4.0 in /usr/local/lib/python3.11/dist-packages (from openai) (0.9.0)\n",
            "Requirement already satisfied: pydantic<3,>=1.9.0 in /usr/local/lib/python3.11/dist-packages (from openai) (2.11.4)\n",
            "Requirement already satisfied: sniffio in /usr/local/lib/python3.11/dist-packages (from openai) (1.3.1)\n",
            "Requirement already satisfied: tqdm>4 in /usr/local/lib/python3.11/dist-packages (from openai) (4.67.1)\n",
            "Requirement already satisfied: typing-extensions<5,>=4.11 in /usr/local/lib/python3.11/dist-packages (from openai) (4.13.2)\n",
            "Requirement already satisfied: nltk>=3.9 in /usr/local/lib/python3.11/dist-packages (from textblob) (3.9.1)\n",
            "Requirement already satisfied: numpy>=1.23.2 in /usr/local/lib/python3.11/dist-packages (from pandas) (2.0.2)\n",
            "Requirement already satisfied: python-dateutil>=2.8.2 in /usr/local/lib/python3.11/dist-packages (from pandas) (2.9.0.post0)\n",
            "Requirement already satisfied: pytz>=2020.1 in /usr/local/lib/python3.11/dist-packages (from pandas) (2025.2)\n",
            "Requirement already satisfied: tzdata>=2022.7 in /usr/local/lib/python3.11/dist-packages (from pandas) (2025.2)\n",
            "Requirement already satisfied: contourpy>=1.0.1 in /usr/local/lib/python3.11/dist-packages (from matplotlib) (1.3.2)\n",
            "Requirement already satisfied: cycler>=0.10 in /usr/local/lib/python3.11/dist-packages (from matplotlib) (0.12.1)\n",
            "Requirement already satisfied: fonttools>=4.22.0 in /usr/local/lib/python3.11/dist-packages (from matplotlib) (4.57.0)\n",
            "Requirement already satisfied: kiwisolver>=1.3.1 in /usr/local/lib/python3.11/dist-packages (from matplotlib) (1.4.8)\n",
            "Requirement already satisfied: packaging>=20.0 in /usr/local/lib/python3.11/dist-packages (from matplotlib) (24.2)\n",
            "Requirement already satisfied: pillow>=8 in /usr/local/lib/python3.11/dist-packages (from matplotlib) (11.2.1)\n",
            "Requirement already satisfied: pyparsing>=2.3.1 in /usr/local/lib/python3.11/dist-packages (from matplotlib) (3.2.3)\n",
            "Requirement already satisfied: aiofiles<25.0,>=22.0 in /usr/local/lib/python3.11/dist-packages (from gradio) (24.1.0)\n",
            "Requirement already satisfied: fastapi<1.0,>=0.115.2 in /usr/local/lib/python3.11/dist-packages (from gradio) (0.115.12)\n",
            "Requirement already satisfied: ffmpy in /usr/local/lib/python3.11/dist-packages (from gradio) (0.5.0)\n",
            "Requirement already satisfied: gradio-client==1.10.0 in /usr/local/lib/python3.11/dist-packages (from gradio) (1.10.0)\n",
            "Requirement already satisfied: groovy~=0.1 in /usr/local/lib/python3.11/dist-packages (from gradio) (0.1.2)\n",
            "Requirement already satisfied: huggingface-hub>=0.28.1 in /usr/local/lib/python3.11/dist-packages (from gradio) (0.30.2)\n",
            "Requirement already satisfied: jinja2<4.0 in /usr/local/lib/python3.11/dist-packages (from gradio) (3.1.6)\n",
            "Requirement already satisfied: markupsafe<4.0,>=2.0 in /usr/local/lib/python3.11/dist-packages (from gradio) (3.0.2)\n",
            "Requirement already satisfied: orjson~=3.0 in /usr/local/lib/python3.11/dist-packages (from gradio) (3.10.18)\n",
            "Requirement already satisfied: pydub in /usr/local/lib/python3.11/dist-packages (from gradio) (0.25.1)\n",
            "Requirement already satisfied: python-multipart>=0.0.18 in /usr/local/lib/python3.11/dist-packages (from gradio) (0.0.20)\n",
            "Requirement already satisfied: pyyaml<7.0,>=5.0 in /usr/local/lib/python3.11/dist-packages (from gradio) (6.0.2)\n",
            "Requirement already satisfied: ruff>=0.9.3 in /usr/local/lib/python3.11/dist-packages (from gradio) (0.11.8)\n",
            "Requirement already satisfied: safehttpx<0.2.0,>=0.1.6 in /usr/local/lib/python3.11/dist-packages (from gradio) (0.1.6)\n",
            "Requirement already satisfied: semantic-version~=2.0 in /usr/local/lib/python3.11/dist-packages (from gradio) (2.10.0)\n",
            "Requirement already satisfied: starlette<1.0,>=0.40.0 in /usr/local/lib/python3.11/dist-packages (from gradio) (0.46.2)\n",
            "Requirement already satisfied: tomlkit<0.14.0,>=0.12.0 in /usr/local/lib/python3.11/dist-packages (from gradio) (0.13.2)\n",
            "Requirement already satisfied: typer<1.0,>=0.12 in /usr/local/lib/python3.11/dist-packages (from gradio) (0.15.3)\n",
            "Requirement already satisfied: uvicorn>=0.14.0 in /usr/local/lib/python3.11/dist-packages (from gradio) (0.34.2)\n",
            "Requirement already satisfied: fsspec in /usr/local/lib/python3.11/dist-packages (from gradio-client==1.10.0->gradio) (2025.3.2)\n",
            "Requirement already satisfied: websockets<16.0,>=10.0 in /usr/local/lib/python3.11/dist-packages (from gradio-client==1.10.0->gradio) (15.0.1)\n",
            "Requirement already satisfied: idna>=2.8 in /usr/local/lib/python3.11/dist-packages (from anyio<5,>=3.5.0->openai) (3.10)\n",
            "Requirement already satisfied: certifi in /usr/local/lib/python3.11/dist-packages (from httpx<1,>=0.23.0->openai) (2025.4.26)\n",
            "Requirement already satisfied: httpcore==1.* in /usr/local/lib/python3.11/dist-packages (from httpx<1,>=0.23.0->openai) (1.0.9)\n",
            "Requirement already satisfied: h11>=0.16 in /usr/local/lib/python3.11/dist-packages (from httpcore==1.*->httpx<1,>=0.23.0->openai) (0.16.0)\n",
            "Requirement already satisfied: filelock in /usr/local/lib/python3.11/dist-packages (from huggingface-hub>=0.28.1->gradio) (3.18.0)\n",
            "Requirement already satisfied: requests in /usr/local/lib/python3.11/dist-packages (from huggingface-hub>=0.28.1->gradio) (2.32.3)\n",
            "Requirement already satisfied: click in /usr/local/lib/python3.11/dist-packages (from nltk>=3.9->textblob) (8.1.8)\n",
            "Requirement already satisfied: joblib in /usr/local/lib/python3.11/dist-packages (from nltk>=3.9->textblob) (1.4.2)\n",
            "Requirement already satisfied: regex>=2021.8.3 in /usr/local/lib/python3.11/dist-packages (from nltk>=3.9->textblob) (2024.11.6)\n",
            "Requirement already satisfied: annotated-types>=0.6.0 in /usr/local/lib/python3.11/dist-packages (from pydantic<3,>=1.9.0->openai) (0.7.0)\n",
            "Requirement already satisfied: pydantic-core==2.33.2 in /usr/local/lib/python3.11/dist-packages (from pydantic<3,>=1.9.0->openai) (2.33.2)\n",
            "Requirement already satisfied: typing-inspection>=0.4.0 in /usr/local/lib/python3.11/dist-packages (from pydantic<3,>=1.9.0->openai) (0.4.0)\n",
            "Requirement already satisfied: six>=1.5 in /usr/local/lib/python3.11/dist-packages (from python-dateutil>=2.8.2->pandas) (1.17.0)\n",
            "Requirement already satisfied: shellingham>=1.3.0 in /usr/local/lib/python3.11/dist-packages (from typer<1.0,>=0.12->gradio) (1.5.4)\n",
            "Requirement already satisfied: rich>=10.11.0 in /usr/local/lib/python3.11/dist-packages (from typer<1.0,>=0.12->gradio) (13.9.4)\n",
            "Requirement already satisfied: markdown-it-py>=2.2.0 in /usr/local/lib/python3.11/dist-packages (from rich>=10.11.0->typer<1.0,>=0.12->gradio) (3.0.0)\n",
            "Requirement already satisfied: pygments<3.0.0,>=2.13.0 in /usr/local/lib/python3.11/dist-packages (from rich>=10.11.0->typer<1.0,>=0.12->gradio) (2.19.1)\n",
            "Requirement already satisfied: charset-normalizer<4,>=2 in /usr/local/lib/python3.11/dist-packages (from requests->huggingface-hub>=0.28.1->gradio) (3.4.1)\n",
            "Requirement already satisfied: urllib3<3,>=1.21.1 in /usr/local/lib/python3.11/dist-packages (from requests->huggingface-hub>=0.28.1->gradio) (2.4.0)\n",
            "Requirement already satisfied: mdurl~=0.1 in /usr/local/lib/python3.11/dist-packages (from markdown-it-py>=2.2.0->rich>=10.11.0->typer<1.0,>=0.12->gradio) (0.1.2)\n"
          ]
        }
      ],
      "source": [
        "# Cell 1: Install all dependencies\n",
        "!pip install --upgrade openai textblob pandas matplotlib fpdf gradio\n"
      ]
    },
    {
      "cell_type": "code",
      "execution_count": null,
      "metadata": {
        "colab": {
          "base_uri": "https://localhost:8080/"
        },
        "id": "n9jbZJ8IR2fv",
        "outputId": "e7a1d1a2-7256-4bf9-d6dc-a5c148cbb5d3"
      },
      "outputs": [
        {
          "name": "stdout",
          "output_type": "stream",
          "text": [
            "Enter your OpenAI API key:··········\n"
          ]
        }
      ],
      "source": [
        "# Cell 2: Import libraries and configure API\n",
        "import openai\n",
        "from textblob import TextBlob\n",
        "import pandas as pd\n",
        "from datetime import datetime\n",
        "from fpdf import FPDF\n",
        "import matplotlib.pyplot as plt\n",
        "import gradio as gr\n",
        "import getpass\n",
        "\n",
        "# API setup\n",
        "client = openai.OpenAI(api_key=getpass.getpass(\"Enter your OpenAI API key:\"))\n"
      ]
    },
    {
      "cell_type": "code",
      "execution_count": null,
      "metadata": {
        "id": "VRIJ_PPbR5Ia"
      },
      "outputs": [],
      "source": [
        "# Cell 3: Journal storage and system prompt\n",
        "JOURNAL_FILE = \"mindmatch_journal.csv\"\n",
        "\n",
        "try:\n",
        "    journal_df = pd.read_csv(JOURNAL_FILE)\n",
        "except:\n",
        "    journal_df = pd.DataFrame(columns=[\"Timestamp\", \"Reflection\", \"Response\", \"Mood\", \"Affirmation\"])\n",
        "\n",
        "session_count = len(journal_df)\n",
        "\n",
        "SYSTEM_PROMPT = \"\"\"\n",
        "You are MindMatch, an AI-powered sports psychologist for collegiate tennis athletes.\n",
        "You respond to athlete journal reflections after practices or matches.\n",
        "You use CBT, performance psychology, and mindfulness strategies.\n",
        "If they’re feeling down, validate their emotion, help reframe the situation, and offer a breathing or reset routine.\n",
        "If they’re confident, build their momentum.\n",
        "End with a mental skill: a cue word, affirmation, visualization strategy, or reflection question.\n",
        "\"\"\"\n"
      ]
    },
    {
      "cell_type": "code",
      "execution_count": null,
      "metadata": {
        "id": "ou81EtK-R5wQ"
      },
      "outputs": [],
      "source": [
        "# Cell 4: Helper functions for mood, affirmations, prompts, saving\n",
        "def detect_emotion(text):\n",
        "    polarity = TextBlob(text).sentiment.polarity\n",
        "    if polarity > 0.4:\n",
        "        return \"Positive\"\n",
        "    elif polarity < -0.3:\n",
        "        return \"Negative\"\n",
        "    else:\n",
        "        return \"Neutral\"\n",
        "\n",
        "def get_mood_summary(emotion):\n",
        "    return {\n",
        "        \"Positive\": \"😊 You sound proud or motivated. Let’s keep that momentum going!\",\n",
        "        \"Negative\": \"😟 It sounds like you’re frustrated or down. Let’s reset and move forward.\",\n",
        "        \"Neutral\": \"😐 You seem centered or reflective. Let’s find growth in this moment.\"\n",
        "    }[emotion]\n",
        "\n",
        "def get_affirmation(emotion):\n",
        "    return {\n",
        "        \"Positive\": \"🔥 Affirmation: 'Confidence comes from preparation — and I’m always preparing.'\",\n",
        "        \"Negative\": \"🌊 Affirmation: 'Even in losses, I rise stronger and smarter.'\",\n",
        "        \"Neutral\": \"🌱 Affirmation: 'I am in control of my breath, my focus, and my mindset.'\"\n",
        "    }[emotion]\n",
        "\n",
        "def save_to_journal(reflection, response, mood, affirmation):\n",
        "    global journal_df\n",
        "    new_entry = {\n",
        "        \"Timestamp\": datetime.now().strftime(\"%Y-%m-%d %H:%M:%S\"),\n",
        "        \"Reflection\": reflection,\n",
        "        \"Response\": response,\n",
        "        \"Mood\": mood,\n",
        "        \"Affirmation\": affirmation\n",
        "    }\n",
        "    journal_df = pd.concat([journal_df, pd.DataFrame([new_entry])], ignore_index=True)\n",
        "    journal_df.to_csv(JOURNAL_FILE, index=False)\n"
      ]
    },
    {
      "cell_type": "code",
      "execution_count": null,
      "metadata": {
        "id": "5RRUgi12R8Cq"
      },
      "outputs": [],
      "source": [
        "import re\n",
        "\n",
        "# Helper to remove emojis and special Unicode characters\n",
        "def remove_emojis(text):\n",
        "    emoji_pattern = re.compile(\n",
        "        \"[\"\n",
        "        u\"\\U0001F600-\\U0001F64F\"  # emoticons\n",
        "        u\"\\U0001F300-\\U0001F5FF\"  # symbols & pictographs\n",
        "        u\"\\U0001F680-\\U0001F6FF\"  # transport & map symbols\n",
        "        u\"\\U0001F1E0-\\U0001F1FF\"  # flags (iOS)\n",
        "        u\"\\U00002702-\\U000027B0\"\n",
        "        u\"\\U000024C2-\\U0001F251\"\n",
        "        \"]+\", flags=re.UNICODE)\n",
        "    return emoji_pattern.sub(r'', text)\n",
        "\n",
        "# Fixed PDF export\n",
        "def export_journal_as_pdf():\n",
        "    if journal_df.empty:\n",
        "        return None\n",
        "\n",
        "    pdf = FPDF()\n",
        "    pdf.set_auto_page_break(auto=True, margin=15)\n",
        "    pdf.add_page()\n",
        "    pdf.set_font(\"Arial\", size=12)\n",
        "    pdf.cell(200, 10, txt=\"MindMatch Journal\", ln=True, align=\"C\")\n",
        "    pdf.ln(10)\n",
        "\n",
        "    for _, row in journal_df.iterrows():\n",
        "        timestamp = remove_emojis(str(row['Timestamp']))\n",
        "        reflection = remove_emojis(str(row['Reflection']))\n",
        "        response = remove_emojis(str(row['Response']))\n",
        "        mood = remove_emojis(str(row['Mood']))\n",
        "        affirmation = remove_emojis(str(row['Affirmation']))\n",
        "\n",
        "        pdf.multi_cell(0, 10, txt=f\"Date: {timestamp}\")\n",
        "        pdf.multi_cell(0, 10, txt=f\"Reflection: {reflection}\")\n",
        "        pdf.multi_cell(0, 10, txt=f\"Response: {response}\")\n",
        "        pdf.multi_cell(0, 10, txt=f\"Mood: {mood}\")\n",
        "        pdf.multi_cell(0, 10, txt=f\"Affirmation: {affirmation}\")\n",
        "        pdf.ln(5)\n",
        "\n",
        "    filepath = \"MindMatch_Journal.pdf\"\n",
        "    pdf.output(filepath)\n",
        "    return filepath\n",
        "\n"
      ]
    },
    {
      "cell_type": "code",
      "execution_count": null,
      "metadata": {
        "id": "ceR_XpT1R_Po"
      },
      "outputs": [],
      "source": [
        "# Cell 6: Plot mood trend\n",
        "def plot_mood_progress():\n",
        "    if journal_df.empty:\n",
        "        print(\"No data to visualize.\")\n",
        "        return\n",
        "\n",
        "    mood_map = {'Positive': 2, 'Neutral': 1, 'Negative': 0}\n",
        "    journal_df['MoodScore'] = journal_df['Mood'].map(mood_map)\n",
        "    journal_df['Timestamp'] = pd.to_datetime(journal_df['Timestamp'])\n",
        "\n",
        "    plt.figure(figsize=(10, 5))\n",
        "    plt.plot(journal_df['Timestamp'], journal_df['MoodScore'], marker='o', linestyle='-')\n",
        "    plt.title(\"🧠 Mood Progress Over Time\")\n",
        "    plt.ylabel(\"Mood Score (2=Positive, 1=Neutral, 0=Negative)\")\n",
        "    plt.xlabel(\"Date\")\n",
        "    plt.grid(True)\n",
        "    plt.tight_layout()\n",
        "    plt.show()\n"
      ]
    },
    {
      "cell_type": "code",
      "execution_count": null,
      "metadata": {
        "colab": {
          "base_uri": "https://localhost:8080/",
          "height": 609
        },
        "id": "m2AufspsSBpS",
        "outputId": "f9c84030-0327-4d0e-cc85-f645b3ca572a"
      },
      "outputs": [
        {
          "output_type": "stream",
          "name": "stdout",
          "text": [
            "Colab notebook detected. This cell will run indefinitely so that you can see errors and logs. To turn off, set debug=False in launch().\n",
            "* Running on public URL: https://20c8784744edfeae3e.gradio.live\n",
            "\n",
            "This share link expires in 1 week. For free permanent hosting and GPU upgrades, run `gradio deploy` from the terminal in the working directory to deploy to Hugging Face Spaces (https://huggingface.co/spaces)\n"
          ]
        },
        {
          "output_type": "display_data",
          "data": {
            "text/plain": [
              "<IPython.core.display.HTML object>"
            ],
            "text/html": [
              "<div><iframe src=\"https://20c8784744edfeae3e.gradio.live\" width=\"100%\" height=\"500\" allow=\"autoplay; camera; microphone; clipboard-read; clipboard-write;\" frameborder=\"0\" allowfullscreen></iframe></div>"
            ]
          },
          "metadata": {}
        }
      ],
      "source": [
        "# Cell 7: Gradio Web App with download button\n",
        "def gradio_handler(reflection):\n",
        "    emotion = detect_emotion(reflection)\n",
        "    mood_summary = get_mood_summary(emotion)\n",
        "    affirmation = get_affirmation(emotion)\n",
        "\n",
        "    try:\n",
        "        response = client.chat.completions.create(\n",
        "            model=\"gpt-4\",\n",
        "            messages=[\n",
        "                {\"role\": \"system\", \"content\": SYSTEM_PROMPT},\n",
        "                {\"role\": \"user\", \"content\": reflection}\n",
        "            ],\n",
        "            temperature=0.7,\n",
        "            max_tokens=700\n",
        "        )\n",
        "        reply = response.choices[0].message.content.strip()\n",
        "        save_to_journal(reflection, reply, emotion, affirmation)\n",
        "\n",
        "        full_response = f\"{mood_summary}\\n\\n{reply}\\n\\n{affirmation}\"\n",
        "        pdf_path = export_journal_as_pdf()\n",
        "\n",
        "        return full_response, pdf_path\n",
        "\n",
        "    except Exception as e:\n",
        "        return f\"⚠️ Error: {str(e)}\", None\n",
        "\n",
        "\n",
        "with gr.Blocks() as demo:\n",
        "    gr.Markdown(\"## 🧠 MindMatch: Virtual Sports Psychologist for Tennis Athletes\")\n",
        "    gr.Markdown(\"Reflect on your performance and get mental training advice. Your entries are saved and exportable.\")\n",
        "\n",
        "    with gr.Row():\n",
        "        input_box = gr.Textbox(label=\"🎾 Journal Reflection\", placeholder=\"How was your practice today?\")\n",
        "    with gr.Row():\n",
        "        output_box = gr.Textbox(label=\"🧠 MindMatch Response\")\n",
        "    with gr.Row():\n",
        "        download_pdf = gr.File(label=\"📄 Download Your Journal as PDF\", interactive=True)\n",
        "\n",
        "    submit_btn = gr.Button(\"Submit Reflection\")\n",
        "    submit_btn.click(fn=gradio_handler, inputs=input_box, outputs=[output_box, download_pdf])\n",
        "\n",
        "demo.launch(share=True, debug=True)\n",
        "\n",
        "\n"
      ]
    }
  ],
  "metadata": {
    "colab": {
      "provenance": [],
      "authorship_tag": "ABX9TyNZ4s6bBiCOxLX45bKm6wP7",
      "include_colab_link": true
    },
    "kernelspec": {
      "display_name": "Python 3",
      "name": "python3"
    },
    "language_info": {
      "name": "python"
    }
  },
  "nbformat": 4,
  "nbformat_minor": 0
}